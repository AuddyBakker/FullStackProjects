{
 "cells": [
  {
   "cell_type": "code",
   "execution_count": 24,
   "metadata": {},
   "outputs": [],
   "source": [
    "import requests"
   ]
  },
  {
   "cell_type": "code",
   "execution_count": 36,
   "metadata": {},
   "outputs": [],
   "source": [
    "url = 'http://www.yahoo.com'\n"
   ]
  },
  {
   "cell_type": "code",
   "execution_count": 37,
   "metadata": {},
   "outputs": [
    {
     "data": {
      "text/plain": [
       "<bound method Response.json of <Response [200]>>"
      ]
     },
     "execution_count": 37,
     "metadata": {},
     "output_type": "execute_result"
    }
   ],
   "source": [
    "response = requests.get(url)\n",
    "response.json"
   ]
  },
  {
   "cell_type": "code",
   "execution_count": 38,
   "metadata": {},
   "outputs": [],
   "source": [
    "currencyURL = 'https://api.exchangerate-api.com/v4/latest/USD'\n",
    "response = requests.get(currencyURL)"
   ]
  },
  {
   "cell_type": "code",
   "execution_count": 40,
   "metadata": {},
   "outputs": [
    {
     "data": {
      "text/plain": [
       "{'base': 'USD',\n",
       " 'date': '2020-08-21',\n",
       " 'time_last_updated': 1597968245,\n",
       " 'rates': {'USD': 1,\n",
       "  'AED': 3.671926,\n",
       "  'ARS': 73.500469,\n",
       "  'AUD': 1.39343,\n",
       "  'BGN': 1.651089,\n",
       "  'BRL': 5.582515,\n",
       "  'BSD': 1,\n",
       "  'CAD': 1.320084,\n",
       "  'CHF': 0.910312,\n",
       "  'CLP': 784.320381,\n",
       "  'CNY': 6.918994,\n",
       "  'COP': 3734.52381,\n",
       "  'CZK': 22.004793,\n",
       "  'DKK': 6.284209,\n",
       "  'DOP': 57.920975,\n",
       "  'EGP': 15.872293,\n",
       "  'EUR': 0.843794,\n",
       "  'FJD': 2.124878,\n",
       "  'GBP': 0.760359,\n",
       "  'GTQ': 7.690988,\n",
       "  'HKD': 7.749926,\n",
       "  'HRK': 6.359222,\n",
       "  'HUF': 295.446241,\n",
       "  'IDR': 14945.477382,\n",
       "  'ILS': 3.401398,\n",
       "  'INR': 75.034279,\n",
       "  'ISK': 136.91621,\n",
       "  'JPY': 105.871619,\n",
       "  'KRW': 1187.99713,\n",
       "  'KZT': 417.154255,\n",
       "  'MVR': 15.4,\n",
       "  'MXN': 22.17301,\n",
       "  'MYR': 4.172614,\n",
       "  'NOK': 8.93463,\n",
       "  'NZD': 1.530112,\n",
       "  'PAB': 1,\n",
       "  'PEN': 3.568225,\n",
       "  'PHP': 48.653114,\n",
       "  'PKR': 167.574786,\n",
       "  'PLN': 3.708263,\n",
       "  'PYG': 7129.545455,\n",
       "  'RON': 4.084382,\n",
       "  'RUB': 73.801189,\n",
       "  'SAR': 3.750407,\n",
       "  'SEK': 8.721372,\n",
       "  'SGD': 1.368837,\n",
       "  'THB': 31.393195,\n",
       "  'TRY': 7.324925,\n",
       "  'TWD': 29.39805,\n",
       "  'UAH': 27.331294,\n",
       "  'UYU': 42.878622,\n",
       "  'ZAR': 17.254879}}"
      ]
     },
     "execution_count": 40,
     "metadata": {},
     "output_type": "execute_result"
    }
   ],
   "source": [
    "data = response.json()\n",
    "data"
   ]
  },
  {
   "cell_type": "code",
   "execution_count": 46,
   "metadata": {},
   "outputs": [],
   "source": [
    "ex_rates = data['rates']\n",
    "def exchange(amt, curr):\n",
    "    return amt / ex_rates[curr]"
   ]
  },
  {
   "cell_type": "code",
   "execution_count": 48,
   "metadata": {},
   "outputs": [
    {
     "data": {
      "text/plain": [
       "11.851233831954245"
      ]
     },
     "execution_count": 48,
     "metadata": {},
     "output_type": "execute_result"
    }
   ],
   "source": [
    "exchange(10, 'EUR')\n"
   ]
  },
  {
   "cell_type": "code",
   "execution_count": 55,
   "metadata": {},
   "outputs": [],
   "source": [
    "bitcoinURL = 'https://coinmarketcap.com/currencies/bitcoin/'\n",
    "response = requests.get(bitcoinURL)\n"
   ]
  },
  {
   "cell_type": "code",
   "execution_count": 57,
   "metadata": {},
   "outputs": [],
   "source": [
    "f = lambda x: x/5"
   ]
  },
  {
   "cell_type": "code",
   "execution_count": 61,
   "metadata": {},
   "outputs": [
    {
     "data": {
      "text/plain": [
       "[0.2, 2.0, 20.0, 200.0, 400.0]"
      ]
     },
     "execution_count": 61,
     "metadata": {},
     "output_type": "execute_result"
    }
   ],
   "source": [
    "list_of_nums = [1, 10, 100, 1000, 2000]\n",
    "list_of_large_nums = list(map(f, list_of_nums))\n",
    "list_of_large_nums"
   ]
  },
  {
   "cell_type": "code",
   "execution_count": 68,
   "metadata": {},
   "outputs": [],
   "source": [
    "my_list = [1, 14, 53, 72, 22, 99]\n",
    "filtered_list = list(filter(lambda x: x>=50, my_list))"
   ]
  },
  {
   "cell_type": "code",
   "execution_count": 69,
   "metadata": {},
   "outputs": [
    {
     "data": {
      "text/plain": [
       "[53, 72, 99]"
      ]
     },
     "execution_count": 69,
     "metadata": {},
     "output_type": "execute_result"
    }
   ],
   "source": [
    "filtered_list"
   ]
  },
  {
   "cell_type": "code",
   "execution_count": 71,
   "metadata": {},
   "outputs": [
    {
     "data": {
      "text/plain": [
       "['a', 'e', 'i', 'o', 'u']"
      ]
     },
     "execution_count": 71,
     "metadata": {},
     "output_type": "execute_result"
    }
   ],
   "source": [
    "letters = ['a', 'b', 'c', 'd', 'e', 'f', 'g', 'h', 'i', 'j', 'k', 'l', 'm', 'n', 'o', 'p', 'q', 'r', 's', 't', 'u', 'v', 'w', 'x', 'y', 'z']\n",
    "\n",
    "def is_vowel(letter):\n",
    "    vowels = ['a', 'e', 'i', 'o', 'u']\n",
    "    if letter in vowels:\n",
    "        return True\n",
    "    else:\n",
    "        return False\n",
    "\n",
    "list(filter(is_vowel, letters))"
   ]
  },
  {
   "cell_type": "code",
   "execution_count": null,
   "metadata": {},
   "outputs": [],
   "source": [
    "///"
   ]
  }
 ],
 "metadata": {
  "kernelspec": {
   "display_name": "Python 3",
   "language": "python",
   "name": "python3"
  },
  "language_info": {
   "codemirror_mode": {
    "name": "ipython",
    "version": 3
   },
   "file_extension": ".py",
   "mimetype": "text/x-python",
   "name": "python",
   "nbconvert_exporter": "python",
   "pygments_lexer": "ipython3",
   "version": "3.7.4"
  }
 },
 "nbformat": 4,
 "nbformat_minor": 2
}
