{
 "cells": [
  {
   "cell_type": "code",
   "execution_count": 1,
   "metadata": {},
   "outputs": [
    {
     "name": "stdout",
     "output_type": "stream",
     "text": [
      "Hi, what's your name? Auddy\n",
      "Please enter three numbers\n",
      "Please choose your first number: 1\n",
      "Please choose your second number: 2\n",
      "Please choose your third number: 3\n"
     ]
    }
   ],
   "source": [
    "user_name = input(\"Hi, what's your name? \")\n",
    "print(\"Please enter three numbers\")\n",
    "n1 = int(input(\"Please choose your first number: \"))\n",
    "n2 = int(input(\"Please choose your second number: \"))\n",
    "n3 = int(input(\"Please choose your third number: \"))"
   ]
  },
  {
   "cell_type": "code",
   "execution_count": 2,
   "metadata": {},
   "outputs": [],
   "source": [
    "result = (n1 + n2) * n3"
   ]
  },
  {
   "cell_type": "code",
   "execution_count": 5,
   "metadata": {},
   "outputs": [
    {
     "name": "stdout",
     "output_type": "stream",
     "text": [
      "9\n"
     ]
    }
   ],
   "source": [
    "print(result)"
   ]
  }
 ],
 "metadata": {
  "kernelspec": {
   "display_name": "Python 3",
   "language": "python",
   "name": "python3"
  },
  "language_info": {
   "codemirror_mode": {
    "name": "ipython",
    "version": 3
   },
   "file_extension": ".py",
   "mimetype": "text/x-python",
   "name": "python",
   "nbconvert_exporter": "python",
   "pygments_lexer": "ipython3",
   "version": "3.7.4"
  }
 },
 "nbformat": 4,
 "nbformat_minor": 2
}
